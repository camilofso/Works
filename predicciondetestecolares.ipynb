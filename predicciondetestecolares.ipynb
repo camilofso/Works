{
 "cells": [
  {
   "cell_type": "markdown",
   "id": "3b26632a-b658-4a48-9485-c18656c51b3e",
   "metadata": {
    "tags": []
   },
   "source": [
    "<img src=data:image/png;base64,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>"
   ]
  },
  {
   "cell_type": "markdown",
   "id": "cca7cc9b-dbe2-4f31-8d35-c9376e78d51e",
   "metadata": {},
   "source": [
    "### Proyecto \"Prediccion del resultado de examenes escolares\""
   ]
  },
  {
   "cell_type": "markdown",
   "id": "d6fe0220-aed7-4f0c-a068-0444c138fea3",
   "metadata": {},
   "source": [
    "## **Crisp-dm1 Conocer el negocio**"
   ]
  },
  {
   "cell_type": "markdown",
   "id": "c49b4f49-b049-4d2c-b813-6975d79a444b",
   "metadata": {},
   "source": [
    "Este dataset fue extraido de un SPSS (Statistical Package for the Social Sciences)\n",
    "Un programa estadistico informatico que originalmente era utilizado para realizar investigaciones de ciencias sociales.\n",
    "\n",
    "El estudio se realizo en diferentes escuelasa lo largo de estados unidos, donde se contemplaron escuelas publicas, privadas y subsidiadas.\n",
    "\n",
    "Contiene los resultados de pruebas realizadas por estudiantes, contiene datos como escuela, tamaño del salon, cantidad de estudiantes, genero, entro otros.\n",
    "\n",
    "Los métodos de enseñanza son los componentes más dinámicos del proceso de enseñanza-aprendizaje, pues están basados en las acciones que realizan los profesores y estudiantes, las que a su vez comprende una serie de operaciones dirigida a lograr los objetivos propuestos en este proceso.\n",
    "\n",
    "El proceso de enseñanza-aprendizaje está compuesto por cuatro elementos: el profesor, el estudiante, el contenido y las variables ambientales (características de la escuela/aula). Cada uno de estos elementos influencia en mayor o menor grado, dependiendo de la forma que se relacionan en un determinado contexto.\n",
    "\n",
    "\n",
    "\n",
    "\n",
    "**En el dataset nos entregan los siguientes datos...**\n",
    "\n",
    "**school:** Es el nombre de la escuela en el cual el alumno esta inscrito.\n",
    "\n",
    "**school_setting:** La localidad de la escuela (Urbana o Suburbana).\n",
    "\n",
    "**school_type:** El tipo de escuela, publica o no publica.\n",
    "\n",
    "**classroom:** El nombre sala de clases donde se realizó la prueba.\n",
    "\n",
    "**teaching_method:** Si el metodo de enseñanda fue el tradicional o experimental.\n",
    "\n",
    "**n_student:** Numero de estudiantes por clase.\n",
    "\n",
    "**student_id:** El codigo de identificacion de cada estudiante.\n",
    "\n",
    "**gender:** El genero del estudiante.\n",
    "\n",
    "**lunch:** Si el estudiante califica para almuerzo gratis/subsidiado/o no. Si los ingresos de su hogar se encuentran dentro del nivel de pobreza, podría ser elegible para comidas gratis. Si no es elegible para comidas gratis pero su ingreso aún se encuentra dentro del nivel de pobreza, podría ser elegible para comidas a bajo costo.\n",
    "\n",
    "**pretest:** El puntaje de la prueba de nivelación previo de cada estudiante, maximo 100.\n",
    "\n",
    "**posttest:** El puntaje del examen pospuesto de cada estudiante, maximo 100.\n"
   ]
  },
  {
   "cell_type": "markdown",
   "id": "df77e104-e454-4aaa-b8d2-ec1c99f06ebb",
   "metadata": {},
   "source": [
    "\n",
    "\n",
    "\n"
   ]
  },
  {
   "cell_type": "markdown",
   "id": "5f628680-4a64-4a22-81c9-01b29d66e1f9",
   "metadata": {},
   "source": [
    "**Por: Camilo Silva Ormazábal**"
   ]
  },
  {
   "cell_type": "markdown",
   "id": "a6b1a3d5-c2a3-4ba4-8e9f-b9fb371f9220",
   "metadata": {},
   "source": [
    "## **Crisp-dm2 Conocer los datos**"
   ]
  },
  {
   "cell_type": "code",
   "execution_count": 1,
   "id": "b396dbad-bcb1-425f-85fc-31fc9c3511de",
   "metadata": {},
   "outputs": [],
   "source": [
    "import pandas as pd #se importa Libreria pandas para trabajar con el dataset\n",
    "import os # se importa os para trabajar con el directorio\n",
    "import matplotlib.pyplot as plt # se importa libreria matplotlib para trabajar con graficos\n",
    "import numpy as np #se importa libreria numpy para trabajar con matrices multidimensionales\n",
    "import seaborn as sns #importamos la librería seaborn permite personalizar el estilo del\n",
    "#gráfico, la paleta de colores que se utiliza, \n",
    "#la fuente y el tamaño de los diferentes integrantes de la visualización."
   ]
  },
  {
   "cell_type": "code",
   "execution_count": 77,
   "id": "9a4fbf6d-5718-49e7-823c-88402fb273e7",
   "metadata": {},
   "outputs": [],
   "source": [
    "#Seleccion del directorio del dataset\n",
    "mainpath = \"/Users/camilosilva/Downloads/\" #ruta del archivo csv\n",
    "filename = \"test_scores.csv\" # se cargan los datos del archivo test_score\n",
    "fullpath = os.path.join(mainpath, filename) "
   ]
  },
  {
   "cell_type": "code",
   "execution_count": 78,
   "id": "c6248ae0-d16b-493e-8889-1931750ab1e6",
   "metadata": {},
   "outputs": [],
   "source": [
    "data = pd.read_csv(\"/Users/camilosilva/Downloads/test_scores.csv\") #se le da nombre al dataset como \"data\""
   ]
  },
  {
   "cell_type": "code",
   "execution_count": 79,
   "id": "e2f9a764-da77-4b58-af35-33e38061399a",
   "metadata": {},
   "outputs": [
    {
     "data": {
      "text/html": [
       "<div>\n",
       "<style scoped>\n",
       "    .dataframe tbody tr th:only-of-type {\n",
       "        vertical-align: middle;\n",
       "    }\n",
       "\n",
       "    .dataframe tbody tr th {\n",
       "        vertical-align: top;\n",
       "    }\n",
       "\n",
       "    .dataframe thead th {\n",
       "        text-align: right;\n",
       "    }\n",
       "</style>\n",
       "<table border=\"1\" class=\"dataframe\">\n",
       "  <thead>\n",
       "    <tr style=\"text-align: right;\">\n",
       "      <th></th>\n",
       "      <th>school</th>\n",
       "      <th>school_setting</th>\n",
       "      <th>school_type</th>\n",
       "      <th>classroom</th>\n",
       "      <th>teaching_method</th>\n",
       "      <th>n_student</th>\n",
       "      <th>student_id</th>\n",
       "      <th>gender</th>\n",
       "      <th>lunch</th>\n",
       "      <th>pretest</th>\n",
       "      <th>posttest</th>\n",
       "    </tr>\n",
       "  </thead>\n",
       "  <tbody>\n",
       "    <tr>\n",
       "      <th>0</th>\n",
       "      <td>ANKYI</td>\n",
       "      <td>Urban</td>\n",
       "      <td>Non-public</td>\n",
       "      <td>6OL</td>\n",
       "      <td>Standard</td>\n",
       "      <td>20.0</td>\n",
       "      <td>2FHT3</td>\n",
       "      <td>Female</td>\n",
       "      <td>Does not qualify</td>\n",
       "      <td>62.0</td>\n",
       "      <td>72.0</td>\n",
       "    </tr>\n",
       "    <tr>\n",
       "      <th>1</th>\n",
       "      <td>ANKYI</td>\n",
       "      <td>Urban</td>\n",
       "      <td>Non-public</td>\n",
       "      <td>6OL</td>\n",
       "      <td>Standard</td>\n",
       "      <td>20.0</td>\n",
       "      <td>3JIVH</td>\n",
       "      <td>Female</td>\n",
       "      <td>Does not qualify</td>\n",
       "      <td>66.0</td>\n",
       "      <td>79.0</td>\n",
       "    </tr>\n",
       "    <tr>\n",
       "      <th>2</th>\n",
       "      <td>ANKYI</td>\n",
       "      <td>Urban</td>\n",
       "      <td>Non-public</td>\n",
       "      <td>6OL</td>\n",
       "      <td>Standard</td>\n",
       "      <td>20.0</td>\n",
       "      <td>3XOWE</td>\n",
       "      <td>Male</td>\n",
       "      <td>Does not qualify</td>\n",
       "      <td>64.0</td>\n",
       "      <td>76.0</td>\n",
       "    </tr>\n",
       "    <tr>\n",
       "      <th>3</th>\n",
       "      <td>ANKYI</td>\n",
       "      <td>Urban</td>\n",
       "      <td>Non-public</td>\n",
       "      <td>6OL</td>\n",
       "      <td>Standard</td>\n",
       "      <td>20.0</td>\n",
       "      <td>556O0</td>\n",
       "      <td>Female</td>\n",
       "      <td>Does not qualify</td>\n",
       "      <td>61.0</td>\n",
       "      <td>77.0</td>\n",
       "    </tr>\n",
       "    <tr>\n",
       "      <th>4</th>\n",
       "      <td>ANKYI</td>\n",
       "      <td>Urban</td>\n",
       "      <td>Non-public</td>\n",
       "      <td>6OL</td>\n",
       "      <td>Standard</td>\n",
       "      <td>20.0</td>\n",
       "      <td>74LOE</td>\n",
       "      <td>Male</td>\n",
       "      <td>Does not qualify</td>\n",
       "      <td>64.0</td>\n",
       "      <td>76.0</td>\n",
       "    </tr>\n",
       "    <tr>\n",
       "      <th>5</th>\n",
       "      <td>ANKYI</td>\n",
       "      <td>Urban</td>\n",
       "      <td>Non-public</td>\n",
       "      <td>6OL</td>\n",
       "      <td>Standard</td>\n",
       "      <td>20.0</td>\n",
       "      <td>7YZO8</td>\n",
       "      <td>Female</td>\n",
       "      <td>Does not qualify</td>\n",
       "      <td>66.0</td>\n",
       "      <td>74.0</td>\n",
       "    </tr>\n",
       "    <tr>\n",
       "      <th>6</th>\n",
       "      <td>ANKYI</td>\n",
       "      <td>Urban</td>\n",
       "      <td>Non-public</td>\n",
       "      <td>6OL</td>\n",
       "      <td>Standard</td>\n",
       "      <td>20.0</td>\n",
       "      <td>9KMZD</td>\n",
       "      <td>Male</td>\n",
       "      <td>Does not qualify</td>\n",
       "      <td>63.0</td>\n",
       "      <td>75.0</td>\n",
       "    </tr>\n",
       "    <tr>\n",
       "      <th>7</th>\n",
       "      <td>ANKYI</td>\n",
       "      <td>Urban</td>\n",
       "      <td>Non-public</td>\n",
       "      <td>6OL</td>\n",
       "      <td>Standard</td>\n",
       "      <td>20.0</td>\n",
       "      <td>9USQK</td>\n",
       "      <td>Female</td>\n",
       "      <td>Does not qualify</td>\n",
       "      <td>63.0</td>\n",
       "      <td>72.0</td>\n",
       "    </tr>\n",
       "    <tr>\n",
       "      <th>8</th>\n",
       "      <td>ANKYI</td>\n",
       "      <td>Urban</td>\n",
       "      <td>Non-public</td>\n",
       "      <td>6OL</td>\n",
       "      <td>Standard</td>\n",
       "      <td>20.0</td>\n",
       "      <td>CS5QP</td>\n",
       "      <td>Male</td>\n",
       "      <td>Does not qualify</td>\n",
       "      <td>64.0</td>\n",
       "      <td>77.0</td>\n",
       "    </tr>\n",
       "    <tr>\n",
       "      <th>9</th>\n",
       "      <td>ANKYI</td>\n",
       "      <td>Urban</td>\n",
       "      <td>Non-public</td>\n",
       "      <td>6OL</td>\n",
       "      <td>Standard</td>\n",
       "      <td>20.0</td>\n",
       "      <td>D6HT8</td>\n",
       "      <td>Female</td>\n",
       "      <td>Does not qualify</td>\n",
       "      <td>61.0</td>\n",
       "      <td>72.0</td>\n",
       "    </tr>\n",
       "  </tbody>\n",
       "</table>\n",
       "</div>"
      ],
      "text/plain": [
       "  school school_setting school_type classroom teaching_method  n_student  \\\n",
       "0  ANKYI          Urban  Non-public       6OL        Standard       20.0   \n",
       "1  ANKYI          Urban  Non-public       6OL        Standard       20.0   \n",
       "2  ANKYI          Urban  Non-public       6OL        Standard       20.0   \n",
       "3  ANKYI          Urban  Non-public       6OL        Standard       20.0   \n",
       "4  ANKYI          Urban  Non-public       6OL        Standard       20.0   \n",
       "5  ANKYI          Urban  Non-public       6OL        Standard       20.0   \n",
       "6  ANKYI          Urban  Non-public       6OL        Standard       20.0   \n",
       "7  ANKYI          Urban  Non-public       6OL        Standard       20.0   \n",
       "8  ANKYI          Urban  Non-public       6OL        Standard       20.0   \n",
       "9  ANKYI          Urban  Non-public       6OL        Standard       20.0   \n",
       "\n",
       "  student_id  gender             lunch  pretest  posttest  \n",
       "0      2FHT3  Female  Does not qualify     62.0      72.0  \n",
       "1      3JIVH  Female  Does not qualify     66.0      79.0  \n",
       "2      3XOWE    Male  Does not qualify     64.0      76.0  \n",
       "3      556O0  Female  Does not qualify     61.0      77.0  \n",
       "4      74LOE    Male  Does not qualify     64.0      76.0  \n",
       "5      7YZO8  Female  Does not qualify     66.0      74.0  \n",
       "6      9KMZD    Male  Does not qualify     63.0      75.0  \n",
       "7      9USQK  Female  Does not qualify     63.0      72.0  \n",
       "8      CS5QP    Male  Does not qualify     64.0      77.0  \n",
       "9      D6HT8  Female  Does not qualify     61.0      72.0  "
      ]
     },
     "execution_count": 79,
     "metadata": {},
     "output_type": "execute_result"
    }
   ],
   "source": [
    "data.head(10)#se despliega las primeras 10 filas del dataframe"
   ]
  },
  {
   "cell_type": "code",
   "execution_count": 80,
   "id": "46a64e1c-74a6-4426-b211-510873abbed7",
   "metadata": {},
   "outputs": [
    {
     "data": {
      "text/html": [
       "<div>\n",
       "<style scoped>\n",
       "    .dataframe tbody tr th:only-of-type {\n",
       "        vertical-align: middle;\n",
       "    }\n",
       "\n",
       "    .dataframe tbody tr th {\n",
       "        vertical-align: top;\n",
       "    }\n",
       "\n",
       "    .dataframe thead th {\n",
       "        text-align: right;\n",
       "    }\n",
       "</style>\n",
       "<table border=\"1\" class=\"dataframe\">\n",
       "  <thead>\n",
       "    <tr style=\"text-align: right;\">\n",
       "      <th></th>\n",
       "      <th>school</th>\n",
       "      <th>school_setting</th>\n",
       "      <th>school_type</th>\n",
       "      <th>classroom</th>\n",
       "      <th>teaching_method</th>\n",
       "      <th>n_student</th>\n",
       "      <th>student_id</th>\n",
       "      <th>gender</th>\n",
       "      <th>lunch</th>\n",
       "      <th>pretest</th>\n",
       "      <th>posttest</th>\n",
       "    </tr>\n",
       "  </thead>\n",
       "  <tbody>\n",
       "    <tr>\n",
       "      <th>2123</th>\n",
       "      <td>ZOWMK</td>\n",
       "      <td>Urban</td>\n",
       "      <td>Public</td>\n",
       "      <td>ZBH</td>\n",
       "      <td>Standard</td>\n",
       "      <td>30.0</td>\n",
       "      <td>KPR1P</td>\n",
       "      <td>Male</td>\n",
       "      <td>Qualifies for reduced/free lunch</td>\n",
       "      <td>40.0</td>\n",
       "      <td>46.0</td>\n",
       "    </tr>\n",
       "    <tr>\n",
       "      <th>2124</th>\n",
       "      <td>ZOWMK</td>\n",
       "      <td>Urban</td>\n",
       "      <td>Public</td>\n",
       "      <td>ZBH</td>\n",
       "      <td>Standard</td>\n",
       "      <td>30.0</td>\n",
       "      <td>Q6QZP</td>\n",
       "      <td>Male</td>\n",
       "      <td>Qualifies for reduced/free lunch</td>\n",
       "      <td>41.0</td>\n",
       "      <td>50.0</td>\n",
       "    </tr>\n",
       "    <tr>\n",
       "      <th>2125</th>\n",
       "      <td>ZOWMK</td>\n",
       "      <td>Urban</td>\n",
       "      <td>Public</td>\n",
       "      <td>ZBH</td>\n",
       "      <td>Standard</td>\n",
       "      <td>30.0</td>\n",
       "      <td>Q8JXJ</td>\n",
       "      <td>Female</td>\n",
       "      <td>Qualifies for reduced/free lunch</td>\n",
       "      <td>45.0</td>\n",
       "      <td>47.0</td>\n",
       "    </tr>\n",
       "    <tr>\n",
       "      <th>2126</th>\n",
       "      <td>ZOWMK</td>\n",
       "      <td>Urban</td>\n",
       "      <td>Public</td>\n",
       "      <td>ZBH</td>\n",
       "      <td>Standard</td>\n",
       "      <td>30.0</td>\n",
       "      <td>R805N</td>\n",
       "      <td>Male</td>\n",
       "      <td>Qualifies for reduced/free lunch</td>\n",
       "      <td>38.0</td>\n",
       "      <td>51.0</td>\n",
       "    </tr>\n",
       "    <tr>\n",
       "      <th>2127</th>\n",
       "      <td>ZOWMK</td>\n",
       "      <td>Urban</td>\n",
       "      <td>Public</td>\n",
       "      <td>ZBH</td>\n",
       "      <td>Standard</td>\n",
       "      <td>30.0</td>\n",
       "      <td>S4I5S</td>\n",
       "      <td>Male</td>\n",
       "      <td>Qualifies for reduced/free lunch</td>\n",
       "      <td>39.0</td>\n",
       "      <td>50.0</td>\n",
       "    </tr>\n",
       "    <tr>\n",
       "      <th>2128</th>\n",
       "      <td>ZOWMK</td>\n",
       "      <td>Urban</td>\n",
       "      <td>Public</td>\n",
       "      <td>ZBH</td>\n",
       "      <td>Standard</td>\n",
       "      <td>30.0</td>\n",
       "      <td>T8LSK</td>\n",
       "      <td>Female</td>\n",
       "      <td>Does not qualify</td>\n",
       "      <td>39.0</td>\n",
       "      <td>55.0</td>\n",
       "    </tr>\n",
       "    <tr>\n",
       "      <th>2129</th>\n",
       "      <td>ZOWMK</td>\n",
       "      <td>Urban</td>\n",
       "      <td>Public</td>\n",
       "      <td>ZBH</td>\n",
       "      <td>Standard</td>\n",
       "      <td>30.0</td>\n",
       "      <td>VNP26</td>\n",
       "      <td>Female</td>\n",
       "      <td>Qualifies for reduced/free lunch</td>\n",
       "      <td>38.0</td>\n",
       "      <td>46.0</td>\n",
       "    </tr>\n",
       "    <tr>\n",
       "      <th>2130</th>\n",
       "      <td>ZOWMK</td>\n",
       "      <td>Urban</td>\n",
       "      <td>Public</td>\n",
       "      <td>ZBH</td>\n",
       "      <td>Standard</td>\n",
       "      <td>30.0</td>\n",
       "      <td>YDR1Z</td>\n",
       "      <td>Female</td>\n",
       "      <td>Qualifies for reduced/free lunch</td>\n",
       "      <td>45.0</td>\n",
       "      <td>51.0</td>\n",
       "    </tr>\n",
       "    <tr>\n",
       "      <th>2131</th>\n",
       "      <td>ZOWMK</td>\n",
       "      <td>Urban</td>\n",
       "      <td>Public</td>\n",
       "      <td>ZBH</td>\n",
       "      <td>Standard</td>\n",
       "      <td>30.0</td>\n",
       "      <td>YUEIH</td>\n",
       "      <td>Male</td>\n",
       "      <td>Qualifies for reduced/free lunch</td>\n",
       "      <td>46.0</td>\n",
       "      <td>53.0</td>\n",
       "    </tr>\n",
       "    <tr>\n",
       "      <th>2132</th>\n",
       "      <td>ZOWMK</td>\n",
       "      <td>Urban</td>\n",
       "      <td>Public</td>\n",
       "      <td>ZBH</td>\n",
       "      <td>Standard</td>\n",
       "      <td>30.0</td>\n",
       "      <td>ZVCQ8</td>\n",
       "      <td>Male</td>\n",
       "      <td>Qualifies for reduced/free lunch</td>\n",
       "      <td>41.0</td>\n",
       "      <td>48.0</td>\n",
       "    </tr>\n",
       "  </tbody>\n",
       "</table>\n",
       "</div>"
      ],
      "text/plain": [
       "     school school_setting school_type classroom teaching_method  n_student  \\\n",
       "2123  ZOWMK          Urban      Public       ZBH        Standard       30.0   \n",
       "2124  ZOWMK          Urban      Public       ZBH        Standard       30.0   \n",
       "2125  ZOWMK          Urban      Public       ZBH        Standard       30.0   \n",
       "2126  ZOWMK          Urban      Public       ZBH        Standard       30.0   \n",
       "2127  ZOWMK          Urban      Public       ZBH        Standard       30.0   \n",
       "2128  ZOWMK          Urban      Public       ZBH        Standard       30.0   \n",
       "2129  ZOWMK          Urban      Public       ZBH        Standard       30.0   \n",
       "2130  ZOWMK          Urban      Public       ZBH        Standard       30.0   \n",
       "2131  ZOWMK          Urban      Public       ZBH        Standard       30.0   \n",
       "2132  ZOWMK          Urban      Public       ZBH        Standard       30.0   \n",
       "\n",
       "     student_id  gender                             lunch  pretest  posttest  \n",
       "2123      KPR1P    Male  Qualifies for reduced/free lunch     40.0      46.0  \n",
       "2124      Q6QZP    Male  Qualifies for reduced/free lunch     41.0      50.0  \n",
       "2125      Q8JXJ  Female  Qualifies for reduced/free lunch     45.0      47.0  \n",
       "2126      R805N    Male  Qualifies for reduced/free lunch     38.0      51.0  \n",
       "2127      S4I5S    Male  Qualifies for reduced/free lunch     39.0      50.0  \n",
       "2128      T8LSK  Female                  Does not qualify     39.0      55.0  \n",
       "2129      VNP26  Female  Qualifies for reduced/free lunch     38.0      46.0  \n",
       "2130      YDR1Z  Female  Qualifies for reduced/free lunch     45.0      51.0  \n",
       "2131      YUEIH    Male  Qualifies for reduced/free lunch     46.0      53.0  \n",
       "2132      ZVCQ8    Male  Qualifies for reduced/free lunch     41.0      48.0  "
      ]
     },
     "execution_count": 80,
     "metadata": {},
     "output_type": "execute_result"
    }
   ],
   "source": [
    "data.tail(10)# aqui podemos ver las utlimas 5 filas de dataframe"
   ]
  },
  {
   "cell_type": "code",
   "execution_count": 6,
   "id": "4df82409-a80c-4aab-af23-2154a6d6fc42",
   "metadata": {},
   "outputs": [
    {
     "data": {
      "text/plain": [
       "(2133, 11)"
      ]
     },
     "execution_count": 6,
     "metadata": {},
     "output_type": "execute_result"
    }
   ],
   "source": [
    "data.shape # Se visualiza la cantidad de filas x columnas, dandonos a entender que \n",
    "#existen 2133 registros de estudiantes y 11 columnas"
   ]
  },
  {
   "cell_type": "code",
   "execution_count": 7,
   "id": "eb06ba51-16c4-4ee2-a3b1-362d85190cb6",
   "metadata": {
    "tags": []
   },
   "outputs": [
    {
     "data": {
      "text/plain": [
       "['school',\n",
       " 'school_setting',\n",
       " 'school_type',\n",
       " 'classroom',\n",
       " 'teaching_method',\n",
       " 'n_student',\n",
       " 'student_id',\n",
       " 'gender',\n",
       " 'lunch',\n",
       " 'pretest',\n",
       " 'posttest']"
      ]
     },
     "execution_count": 7,
     "metadata": {},
     "output_type": "execute_result"
    }
   ],
   "source": [
    "data.columns.tolist()"
   ]
  },
  {
   "cell_type": "code",
   "execution_count": 8,
   "id": "91f8718c-006a-4ab1-8dec-13637805bf96",
   "metadata": {},
   "outputs": [
    {
     "data": {
      "text/html": [
       "<div>\n",
       "<style scoped>\n",
       "    .dataframe tbody tr th:only-of-type {\n",
       "        vertical-align: middle;\n",
       "    }\n",
       "\n",
       "    .dataframe tbody tr th {\n",
       "        vertical-align: top;\n",
       "    }\n",
       "\n",
       "    .dataframe thead th {\n",
       "        text-align: right;\n",
       "    }\n",
       "</style>\n",
       "<table border=\"1\" class=\"dataframe\">\n",
       "  <thead>\n",
       "    <tr style=\"text-align: right;\">\n",
       "      <th></th>\n",
       "      <th>count</th>\n",
       "      <th>mean</th>\n",
       "      <th>std</th>\n",
       "      <th>min</th>\n",
       "      <th>25%</th>\n",
       "      <th>50%</th>\n",
       "      <th>75%</th>\n",
       "      <th>max</th>\n",
       "    </tr>\n",
       "  </thead>\n",
       "  <tbody>\n",
       "    <tr>\n",
       "      <th>n_student</th>\n",
       "      <td>2133.0</td>\n",
       "      <td>22.796531</td>\n",
       "      <td>4.228893</td>\n",
       "      <td>14.0</td>\n",
       "      <td>20.0</td>\n",
       "      <td>22.0</td>\n",
       "      <td>27.0</td>\n",
       "      <td>31.0</td>\n",
       "    </tr>\n",
       "    <tr>\n",
       "      <th>pretest</th>\n",
       "      <td>2133.0</td>\n",
       "      <td>54.955931</td>\n",
       "      <td>13.563101</td>\n",
       "      <td>22.0</td>\n",
       "      <td>44.0</td>\n",
       "      <td>56.0</td>\n",
       "      <td>65.0</td>\n",
       "      <td>93.0</td>\n",
       "    </tr>\n",
       "    <tr>\n",
       "      <th>posttest</th>\n",
       "      <td>2133.0</td>\n",
       "      <td>67.102203</td>\n",
       "      <td>13.986789</td>\n",
       "      <td>32.0</td>\n",
       "      <td>56.0</td>\n",
       "      <td>68.0</td>\n",
       "      <td>77.0</td>\n",
       "      <td>100.0</td>\n",
       "    </tr>\n",
       "  </tbody>\n",
       "</table>\n",
       "</div>"
      ],
      "text/plain": [
       "            count       mean        std   min   25%   50%   75%    max\n",
       "n_student  2133.0  22.796531   4.228893  14.0  20.0  22.0  27.0   31.0\n",
       "pretest    2133.0  54.955931  13.563101  22.0  44.0  56.0  65.0   93.0\n",
       "posttest   2133.0  67.102203  13.986789  32.0  56.0  68.0  77.0  100.0"
      ]
     },
     "execution_count": 8,
     "metadata": {},
     "output_type": "execute_result"
    }
   ],
   "source": [
    "data.describe().T #con la funcion describe sabemos que no hay datos nulos por lo que\n",
    "#entendemos que la misma cantidad de alumnos en el pretest y posttest fueron evaluados\n"
   ]
  },
  {
   "cell_type": "markdown",
   "id": "dfaffc06-9545-4b32-a248-0bc6f2e87081",
   "metadata": {},
   "source": [
    "\n"
   ]
  },
  {
   "cell_type": "markdown",
   "id": "db0df6e5-236a-4e4f-92e6-f05de87ca2c1",
   "metadata": {},
   "source": [
    "##### En el siguiente histograma podemos ver que la mayor cantidad de alumnos son de colegios publicos"
   ]
  },
  {
   "cell_type": "code",
   "execution_count": 9,
   "id": "429d9bc7-32e1-4464-a9f3-d2c3c4b9398c",
   "metadata": {},
   "outputs": [
    {
     "data": {
      "text/plain": [
       "Text(0.5, 1.0, 'Histograma de tipos de escuelas')"
      ]
     },
     "execution_count": 9,
     "metadata": {},
     "output_type": "execute_result"
    },
    {
     "data": {
      "image/png": "[encoded data removed]",
      "text/plain": [
       "<Figure size 432x288 with 1 Axes>"
      ]
     },
     "metadata": {
      "needs_background": "light"
     },
     "output_type": "display_data"
    }
   ],
   "source": [
    "plt.hist(data[\"school_type\"])\n",
    "plt.xlabel(\"Tipo de escuelas\")\n",
    "plt.ylabel(\"cantidad de alumnos\")\n",
    "plt.title(\"Histograma de tipos de escuelas\")\n",
    "#con .hist podemos hacer un histograma y podemos\n",
    "#entender que las escuelas publicas predominaron el tipo de escuela"
   ]
  },
  {
   "cell_type": "markdown",
   "id": "bbe18750-3c96-43fe-a964-ba24d8508606",
   "metadata": {},
   "source": [
    "#####  En el siguiente podemos ver que la mayor cantidad de alumnos aprende con metodologia Standard\n",
    "\n"
   ]
  },
  {
   "cell_type": "code",
   "execution_count": 10,
   "id": "bebf368a-42ee-400e-85f1-7720c46f9e66",
   "metadata": {},
   "outputs": [
    {
     "data": {
      "text/plain": [
       "Text(0.5, 1.0, 'Histograma del metodo de enseñanza')"
      ]
     },
     "execution_count": 10,
     "metadata": {},
     "output_type": "execute_result"
    },
    {
     "data": {
      "image/png": "[encoded data removed]",
      "text/plain": [
       "<Figure size 432x288 with 1 Axes>"
      ]
     },
     "metadata": {
      "needs_background": "light"
     },
     "output_type": "display_data"
    }
   ],
   "source": [
    "plt.hist(data[\"teaching_method\"])\n",
    "plt.xlabel(\"Metodo de enseñanza\")\n",
    "plt.ylabel(\"cantidad de alumnos\")\n",
    "plt.title(\"Histograma del metodo de enseñanza\")\n",
    "#con .hist podemos hacer un histograma y saber\n",
    "# cual es la metodología mas usada en los colegios"
   ]
  },
  {
   "cell_type": "markdown",
   "id": "0c865ae3-8cb4-4300-9a90-814324f6249f",
   "metadata": {},
   "source": [
    "#####  En el siguiente histograma podemos ver que la mayor cantidad de alumnos no califica para una comida gratis\n",
    "\n"
   ]
  },
  {
   "cell_type": "code",
   "execution_count": 11,
   "id": "abfb625a-7389-4fea-b1cf-e4d3b2f6b2d5",
   "metadata": {},
   "outputs": [
    {
     "data": {
      "text/plain": [
       "Text(0.5, 1.0, 'Histograma de alumnos que califican o no a comida gratis/ayuda')"
      ]
     },
     "execution_count": 11,
     "metadata": {},
     "output_type": "execute_result"
    },
    {
     "data": {
      "image/png": "[encoded data removed]",
      "text/plain": [
       "<Figure size 432x288 with 1 Axes>"
      ]
     },
     "metadata": {
      "needs_background": "light"
     },
     "output_type": "display_data"
    }
   ],
   "source": [
    "plt.hist(data[\"lunch\"])\n",
    "plt.xlabel(\"califica o no califica a comida gratis/ayuda\")\n",
    "plt.ylabel(\"cantidad de alumnos\")\n",
    "plt.title(\"Histograma de alumnos que califican o no a comida gratis/ayuda\")\n",
    "#con .hist podemos hacer un histograma y saber\n",
    "#Cual es la cantidad de alumnos que califican o no califican para reduccion \n",
    "#de precio del almuerzo o pueden optar a comida gratis."
   ]
  },
  {
   "cell_type": "markdown",
   "id": "9066eef3-1bb9-4777-930b-5529eb50dd8a",
   "metadata": {},
   "source": [
    "\n"
   ]
  },
  {
   "cell_type": "markdown",
   "id": "3c2d3f95-46e2-4501-8e36-12e5ddfb2d75",
   "metadata": {},
   "source": []
  },
  {
   "cell_type": "markdown",
   "id": "1928b9f0-52f6-4a73-89af-3787562d0a10",
   "metadata": {},
   "source": [
    "#### **Preguntas**"
   ]
  },
  {
   "cell_type": "markdown",
   "id": "1cbba93d-b9d9-4bfa-967a-5b4bbb5e6bf0",
   "metadata": {},
   "source": [
    "#### 1 ¿En que colegio se tomó la mayor cantidad de pruebas?"
   ]
  },
  {
   "cell_type": "code",
   "execution_count": 12,
   "id": "d3fd8043-cf42-4ed6-9a77-bb46ea078245",
   "metadata": {},
   "outputs": [
    {
     "data": {
      "text/plain": [
       "<AxesSubplot:xlabel='school', ylabel='count'>"
      ]
     },
     "execution_count": 12,
     "metadata": {},
     "output_type": "execute_result"
    },
    {
     "data": {
      "image/png": "[encoded data removed]",
      "text/plain": [
       "<Figure size 1440x360 with 1 Axes>"
      ]
     },
     "metadata": {
      "needs_background": "light"
     },
     "output_type": "display_data"
    }
   ],
   "source": [
    "plt.figure(figsize=(20,5))\n",
    "sns.countplot(data=data,x=\"school\") #creamos un grafio con la libreria seaborn para ver la cantidad de \n",
    "#alumnos por cada colegio"
   ]
  },
  {
   "cell_type": "markdown",
   "id": "fe0a6d3d-865a-4e99-819a-d7333e44ec93",
   "metadata": {},
   "source": [
    " En este Gráfico podemos ver la cantidad de alumnos que hay en cada colegio."
   ]
  },
  {
   "cell_type": "code",
   "execution_count": 13,
   "id": "af9b42d2-5b13-4d7e-99fa-1c8e3ebcab22",
   "metadata": {},
   "outputs": [
    {
     "data": {
      "text/plain": [
       "GOOBU    158\n",
       "QOQTS    149\n",
       "UKPGS    128\n",
       "DNQDD    122\n",
       "GJJHK    118\n",
       "ZOWMK    117\n",
       "VVTVA    114\n",
       "KZKKE    111\n",
       "CCAAW    109\n",
       "CUQAM    107\n",
       "VKWQH    100\n",
       "IDGFP     94\n",
       "UAGPU     87\n",
       "UUUQX     84\n",
       "OJOBU     81\n",
       "CIMBB     74\n",
       "ZMNYA     69\n",
       "GOKXL     64\n",
       "LAYPA     57\n",
       "KFZMY     52\n",
       "VHDHF     51\n",
       "FBUMG     46\n",
       "ANKYI     41\n",
       "Name: school, dtype: int64"
      ]
     },
     "execution_count": 13,
     "metadata": {},
     "output_type": "execute_result"
    }
   ],
   "source": [
    "data[\"school\"].value_counts() #con value counts podemos verlo por números"
   ]
  },
  {
   "cell_type": "markdown",
   "id": "f1148fad-3750-447e-bfbd-eee6cc6cd9d5",
   "metadata": {},
   "source": [
    " **R: En la Escuela GODBU, con 159 alumnos**"
   ]
  },
  {
   "cell_type": "markdown",
   "id": "a085822b-0862-4058-9ee3-c4ef4989f7d4",
   "metadata": {},
   "source": [
    "\n"
   ]
  },
  {
   "cell_type": "markdown",
   "id": "7d9e0fc1-13b3-4e18-838b-96d86cc389de",
   "metadata": {},
   "source": [
    "#### 2 ¿Que genero predomina en las escuelas publicas y pagadas?"
   ]
  },
  {
   "cell_type": "code",
   "execution_count": 14,
   "id": "2cfaf047-c9fc-40a4-abc2-a2c066fbf741",
   "metadata": {},
   "outputs": [],
   "source": [
    "genero_cantidad = data[\"gender\"].value_counts() #En este paso creamos una nueva variable llamada genero_cantidad"
   ]
  },
  {
   "cell_type": "code",
   "execution_count": 15,
   "id": "dc7b9199-e174-4035-b590-a1ac9aedef40",
   "metadata": {},
   "outputs": [
    {
     "data": {
      "text/plain": [
       "<AxesSubplot:ylabel='gender'>"
      ]
     },
     "execution_count": 15,
     "metadata": {},
     "output_type": "execute_result"
    },
    {
     "data": {
      "image/png": "[encoded data removed]",
      "text/plain": [
       "<Figure size 432x288 with 1 Axes>"
      ]
     },
     "metadata": {},
     "output_type": "display_data"
    }
   ],
   "source": [
    "genero_cantidad.plot.pie() #En este paso podemos ver de mejor manera como se expresan estos datos"
   ]
  },
  {
   "cell_type": "code",
   "execution_count": 16,
   "id": "28bc1c68-e06a-4075-bcb9-611774dc2655",
   "metadata": {},
   "outputs": [
    {
     "data": {
      "text/plain": [
       "Male      1077\n",
       "Female    1056\n",
       "Name: gender, dtype: int64"
      ]
     },
     "execution_count": 16,
     "metadata": {},
     "output_type": "execute_result"
    }
   ],
   "source": [
    "data[\"gender\"].value_counts() #El genero masculino predomina en las escuelas"
   ]
  },
  {
   "cell_type": "markdown",
   "id": "1f4ebe16-a8bb-4d86-8c5f-b38b64d921fb",
   "metadata": {},
   "source": [
    " **R: el genero que predomina es el genero masculino**"
   ]
  },
  {
   "cell_type": "code",
   "execution_count": null,
   "id": "79534b8e-bd94-4aef-ad62-678437fd94cf",
   "metadata": {},
   "outputs": [],
   "source": []
  },
  {
   "cell_type": "markdown",
   "id": "35618ec7-78e0-4890-bec4-34b99738f9d9",
   "metadata": {},
   "source": [
    "#### 3 ¿Cuántas mujeres hay en colegios publicos?"
   ]
  },
  {
   "cell_type": "code",
   "execution_count": 17,
   "id": "7a37436a-b014-4862-a9f2-5a8843492529",
   "metadata": {},
   "outputs": [],
   "source": [
    "double_group = data.groupby([\"gender\", \"school_type\"]) #generamos un grupo doble con genero y tipo de escuela"
   ]
  },
  {
   "cell_type": "code",
   "execution_count": 18,
   "id": "eec315d6-c204-4318-912e-c4a224319242",
   "metadata": {},
   "outputs": [
    {
     "data": {
      "text/plain": [
       "gender  school_type\n",
       "Female  Non-public     281\n",
       "        Public         775\n",
       "Male    Non-public     270\n",
       "        Public         807\n",
       "dtype: int64"
      ]
     },
     "execution_count": 18,
     "metadata": {},
     "output_type": "execute_result"
    }
   ],
   "source": [
    "double_group.size() #usamos .size para saber el calculo"
   ]
  },
  {
   "cell_type": "markdown",
   "id": "409a9a04-7c41-4f55-9aa3-273fe783c14e",
   "metadata": {},
   "source": [
    " **R: hay 775 mujeres en colegios publicos**"
   ]
  },
  {
   "cell_type": "markdown",
   "id": "f779bc9c-9c71-4ba6-975e-8299e2e78cb3",
   "metadata": {},
   "source": [
    "\n"
   ]
  },
  {
   "cell_type": "markdown",
   "id": "18510976-0555-4eb6-9716-39cd377fb172",
   "metadata": {},
   "source": [
    "#### 4 ¿Cuántos hombres tienen metodologia standar?"
   ]
  },
  {
   "cell_type": "code",
   "execution_count": 19,
   "id": "e630f6ca-5d9e-46d6-b383-32d78226477f",
   "metadata": {},
   "outputs": [],
   "source": [
    "triple_group = data.groupby([\"gender\", \"teaching_method\",]) #generamos un grupo doble con genero y metodo de enseñanza"
   ]
  },
  {
   "cell_type": "code",
   "execution_count": 20,
   "id": "5e00849a-c14e-400c-9d0e-20470683b4c6",
   "metadata": {},
   "outputs": [
    {
     "data": {
      "text/plain": [
       "gender  teaching_method\n",
       "Female  Experimental       366\n",
       "        Standard           690\n",
       "Male    Experimental       394\n",
       "        Standard           683\n",
       "dtype: int64"
      ]
     },
     "execution_count": 20,
     "metadata": {},
     "output_type": "execute_result"
    }
   ],
   "source": [
    "triple_group.size()  #usamos .size para saber el calculo"
   ]
  },
  {
   "cell_type": "markdown",
   "id": "04b1d62d-7df4-430a-b525-c7068aa243dc",
   "metadata": {},
   "source": [
    " **R: 683 alumnos de sexo masculino reciben metodologia de aprendizaje estandar**"
   ]
  },
  {
   "cell_type": "markdown",
   "id": "5a551461-1e73-4d39-9f53-4a4ec13c1993",
   "metadata": {},
   "source": [
    "\n"
   ]
  },
  {
   "cell_type": "markdown",
   "id": "ed45b012-d367-4177-a368-ecef70074fd8",
   "metadata": {},
   "source": [
    "#### 5 ¿Cuántas alumnas de colegios publicos tienen aprendizaje experimental?"
   ]
  },
  {
   "cell_type": "code",
   "execution_count": 21,
   "id": "9000da97-e36e-470d-a7e4-cae29b39aef2",
   "metadata": {},
   "outputs": [],
   "source": [
    "cuarto_group = data.groupby([\"teaching_method\", \"school_type\",\"gender\"]) #generamos un grupo triple con metología, genero y tipo de escuela"
   ]
  },
  {
   "cell_type": "code",
   "execution_count": 22,
   "id": "7bc9a198-10cb-4d05-924b-d8aa21bbeb8c",
   "metadata": {},
   "outputs": [
    {
     "data": {
      "text/plain": [
       "teaching_method  school_type  gender\n",
       "Experimental     Non-public   Female    132\n",
       "                              Male      133\n",
       "                 Public       Female    234\n",
       "                              Male      261\n",
       "Standard         Non-public   Female    149\n",
       "                              Male      137\n",
       "                 Public       Female    541\n",
       "                              Male      546\n",
       "dtype: int64"
      ]
     },
     "execution_count": 22,
     "metadata": {},
     "output_type": "execute_result"
    }
   ],
   "source": [
    "cuarto_group.size()  #usamos .size para saber el calculo"
   ]
  },
  {
   "cell_type": "markdown",
   "id": "95f541c1-2f76-43f5-b07a-0ed448276805",
   "metadata": {},
   "source": [
    " **R: 234 mujeres tienen aprendizaje exprimental en colegios publicos**"
   ]
  },
  {
   "cell_type": "markdown",
   "id": "5051da88-a0b9-4bf0-8661-e2b9fde7456b",
   "metadata": {},
   "source": [
    "## **Crisp-dm3 Limpieza de datos**\n"
   ]
  },
  {
   "cell_type": "markdown",
   "id": "58d20bf8-398a-49f6-ad7f-97f63ef965a3",
   "metadata": {},
   "source": [
    " \n",
    " "
   ]
  },
  {
   "cell_type": "code",
   "execution_count": 23,
   "id": "e0689b7c-b191-4665-84b5-f5de28d45a04",
   "metadata": {},
   "outputs": [
    {
     "data": {
      "text/html": [
       "<div>\n",
       "<style scoped>\n",
       "    .dataframe tbody tr th:only-of-type {\n",
       "        vertical-align: middle;\n",
       "    }\n",
       "\n",
       "    .dataframe tbody tr th {\n",
       "        vertical-align: top;\n",
       "    }\n",
       "\n",
       "    .dataframe thead th {\n",
       "        text-align: right;\n",
       "    }\n",
       "</style>\n",
       "<table border=\"1\" class=\"dataframe\">\n",
       "  <thead>\n",
       "    <tr style=\"text-align: right;\">\n",
       "      <th></th>\n",
       "      <th>school</th>\n",
       "      <th>school_setting</th>\n",
       "      <th>school_type</th>\n",
       "      <th>classroom</th>\n",
       "      <th>teaching_method</th>\n",
       "      <th>n_student</th>\n",
       "      <th>student_id</th>\n",
       "      <th>gender</th>\n",
       "      <th>lunch</th>\n",
       "      <th>pretest</th>\n",
       "      <th>posttest</th>\n",
       "    </tr>\n",
       "  </thead>\n",
       "  <tbody>\n",
       "    <tr>\n",
       "      <th>0</th>\n",
       "      <td>ANKYI</td>\n",
       "      <td>Urban</td>\n",
       "      <td>Non-public</td>\n",
       "      <td>6OL</td>\n",
       "      <td>Standard</td>\n",
       "      <td>20.0</td>\n",
       "      <td>2FHT3</td>\n",
       "      <td>Female</td>\n",
       "      <td>Does not qualify</td>\n",
       "      <td>62.0</td>\n",
       "      <td>72.0</td>\n",
       "    </tr>\n",
       "    <tr>\n",
       "      <th>1</th>\n",
       "      <td>ANKYI</td>\n",
       "      <td>Urban</td>\n",
       "      <td>Non-public</td>\n",
       "      <td>6OL</td>\n",
       "      <td>Standard</td>\n",
       "      <td>20.0</td>\n",
       "      <td>3JIVH</td>\n",
       "      <td>Female</td>\n",
       "      <td>Does not qualify</td>\n",
       "      <td>66.0</td>\n",
       "      <td>79.0</td>\n",
       "    </tr>\n",
       "    <tr>\n",
       "      <th>2</th>\n",
       "      <td>ANKYI</td>\n",
       "      <td>Urban</td>\n",
       "      <td>Non-public</td>\n",
       "      <td>6OL</td>\n",
       "      <td>Standard</td>\n",
       "      <td>20.0</td>\n",
       "      <td>3XOWE</td>\n",
       "      <td>Male</td>\n",
       "      <td>Does not qualify</td>\n",
       "      <td>64.0</td>\n",
       "      <td>76.0</td>\n",
       "    </tr>\n",
       "    <tr>\n",
       "      <th>3</th>\n",
       "      <td>ANKYI</td>\n",
       "      <td>Urban</td>\n",
       "      <td>Non-public</td>\n",
       "      <td>6OL</td>\n",
       "      <td>Standard</td>\n",
       "      <td>20.0</td>\n",
       "      <td>556O0</td>\n",
       "      <td>Female</td>\n",
       "      <td>Does not qualify</td>\n",
       "      <td>61.0</td>\n",
       "      <td>77.0</td>\n",
       "    </tr>\n",
       "    <tr>\n",
       "      <th>4</th>\n",
       "      <td>ANKYI</td>\n",
       "      <td>Urban</td>\n",
       "      <td>Non-public</td>\n",
       "      <td>6OL</td>\n",
       "      <td>Standard</td>\n",
       "      <td>20.0</td>\n",
       "      <td>74LOE</td>\n",
       "      <td>Male</td>\n",
       "      <td>Does not qualify</td>\n",
       "      <td>64.0</td>\n",
       "      <td>76.0</td>\n",
       "    </tr>\n",
       "    <tr>\n",
       "      <th>...</th>\n",
       "      <td>...</td>\n",
       "      <td>...</td>\n",
       "      <td>...</td>\n",
       "      <td>...</td>\n",
       "      <td>...</td>\n",
       "      <td>...</td>\n",
       "      <td>...</td>\n",
       "      <td>...</td>\n",
       "      <td>...</td>\n",
       "      <td>...</td>\n",
       "      <td>...</td>\n",
       "    </tr>\n",
       "    <tr>\n",
       "      <th>2128</th>\n",
       "      <td>ZOWMK</td>\n",
       "      <td>Urban</td>\n",
       "      <td>Public</td>\n",
       "      <td>ZBH</td>\n",
       "      <td>Standard</td>\n",
       "      <td>30.0</td>\n",
       "      <td>T8LSK</td>\n",
       "      <td>Female</td>\n",
       "      <td>Does not qualify</td>\n",
       "      <td>39.0</td>\n",
       "      <td>55.0</td>\n",
       "    </tr>\n",
       "    <tr>\n",
       "      <th>2129</th>\n",
       "      <td>ZOWMK</td>\n",
       "      <td>Urban</td>\n",
       "      <td>Public</td>\n",
       "      <td>ZBH</td>\n",
       "      <td>Standard</td>\n",
       "      <td>30.0</td>\n",
       "      <td>VNP26</td>\n",
       "      <td>Female</td>\n",
       "      <td>Qualifies for reduced/free lunch</td>\n",
       "      <td>38.0</td>\n",
       "      <td>46.0</td>\n",
       "    </tr>\n",
       "    <tr>\n",
       "      <th>2130</th>\n",
       "      <td>ZOWMK</td>\n",
       "      <td>Urban</td>\n",
       "      <td>Public</td>\n",
       "      <td>ZBH</td>\n",
       "      <td>Standard</td>\n",
       "      <td>30.0</td>\n",
       "      <td>YDR1Z</td>\n",
       "      <td>Female</td>\n",
       "      <td>Qualifies for reduced/free lunch</td>\n",
       "      <td>45.0</td>\n",
       "      <td>51.0</td>\n",
       "    </tr>\n",
       "    <tr>\n",
       "      <th>2131</th>\n",
       "      <td>ZOWMK</td>\n",
       "      <td>Urban</td>\n",
       "      <td>Public</td>\n",
       "      <td>ZBH</td>\n",
       "      <td>Standard</td>\n",
       "      <td>30.0</td>\n",
       "      <td>YUEIH</td>\n",
       "      <td>Male</td>\n",
       "      <td>Qualifies for reduced/free lunch</td>\n",
       "      <td>46.0</td>\n",
       "      <td>53.0</td>\n",
       "    </tr>\n",
       "    <tr>\n",
       "      <th>2132</th>\n",
       "      <td>ZOWMK</td>\n",
       "      <td>Urban</td>\n",
       "      <td>Public</td>\n",
       "      <td>ZBH</td>\n",
       "      <td>Standard</td>\n",
       "      <td>30.0</td>\n",
       "      <td>ZVCQ8</td>\n",
       "      <td>Male</td>\n",
       "      <td>Qualifies for reduced/free lunch</td>\n",
       "      <td>41.0</td>\n",
       "      <td>48.0</td>\n",
       "    </tr>\n",
       "  </tbody>\n",
       "</table>\n",
       "<p>2133 rows × 11 columns</p>\n",
       "</div>"
      ],
      "text/plain": [
       "     school school_setting school_type classroom teaching_method  n_student  \\\n",
       "0     ANKYI          Urban  Non-public       6OL        Standard       20.0   \n",
       "1     ANKYI          Urban  Non-public       6OL        Standard       20.0   \n",
       "2     ANKYI          Urban  Non-public       6OL        Standard       20.0   \n",
       "3     ANKYI          Urban  Non-public       6OL        Standard       20.0   \n",
       "4     ANKYI          Urban  Non-public       6OL        Standard       20.0   \n",
       "...     ...            ...         ...       ...             ...        ...   \n",
       "2128  ZOWMK          Urban      Public       ZBH        Standard       30.0   \n",
       "2129  ZOWMK          Urban      Public       ZBH        Standard       30.0   \n",
       "2130  ZOWMK          Urban      Public       ZBH        Standard       30.0   \n",
       "2131  ZOWMK          Urban      Public       ZBH        Standard       30.0   \n",
       "2132  ZOWMK          Urban      Public       ZBH        Standard       30.0   \n",
       "\n",
       "     student_id  gender                             lunch  pretest  posttest  \n",
       "0         2FHT3  Female                  Does not qualify     62.0      72.0  \n",
       "1         3JIVH  Female                  Does not qualify     66.0      79.0  \n",
       "2         3XOWE    Male                  Does not qualify     64.0      76.0  \n",
       "3         556O0  Female                  Does not qualify     61.0      77.0  \n",
       "4         74LOE    Male                  Does not qualify     64.0      76.0  \n",
       "...         ...     ...                               ...      ...       ...  \n",
       "2128      T8LSK  Female                  Does not qualify     39.0      55.0  \n",
       "2129      VNP26  Female  Qualifies for reduced/free lunch     38.0      46.0  \n",
       "2130      YDR1Z  Female  Qualifies for reduced/free lunch     45.0      51.0  \n",
       "2131      YUEIH    Male  Qualifies for reduced/free lunch     46.0      53.0  \n",
       "2132      ZVCQ8    Male  Qualifies for reduced/free lunch     41.0      48.0  \n",
       "\n",
       "[2133 rows x 11 columns]"
      ]
     },
     "execution_count": 23,
     "metadata": {},
     "output_type": "execute_result"
    }
   ],
   "source": [
    "data.fillna(0) # fillna permite sustituir los valores nulos y los dejamos en 0."
   ]
  },
  {
   "cell_type": "code",
   "execution_count": 24,
   "id": "a6ab2a9d-9037-407f-a228-0b08707bdd7e",
   "metadata": {},
   "outputs": [
    {
     "data": {
      "text/plain": [
       "school             0\n",
       "school_setting     0\n",
       "school_type        0\n",
       "classroom          0\n",
       "teaching_method    0\n",
       "n_student          0\n",
       "student_id         0\n",
       "gender             0\n",
       "lunch              0\n",
       "pretest            0\n",
       "posttest           0\n",
       "dtype: int64"
      ]
     },
     "execution_count": 24,
     "metadata": {},
     "output_type": "execute_result"
    }
   ],
   "source": [
    "data.isnull().sum() # aqui verificamos la existencia de algun dato nulo dentro de nuestro dataframe"
   ]
  },
  {
   "cell_type": "code",
   "execution_count": 25,
   "id": "97cf6668-cee0-4f23-93b6-fd04fc94b7ff",
   "metadata": {},
   "outputs": [
    {
     "name": "stdout",
     "output_type": "stream",
     "text": [
      "<class 'pandas.core.frame.DataFrame'>\n",
      "RangeIndex: 2133 entries, 0 to 2132\n",
      "Data columns (total 11 columns):\n",
      " #   Column           Non-Null Count  Dtype  \n",
      "---  ------           --------------  -----  \n",
      " 0   school           2133 non-null   object \n",
      " 1   school_setting   2133 non-null   object \n",
      " 2   school_type      2133 non-null   object \n",
      " 3   classroom        2133 non-null   object \n",
      " 4   teaching_method  2133 non-null   object \n",
      " 5   n_student        2133 non-null   float64\n",
      " 6   student_id       2133 non-null   object \n",
      " 7   gender           2133 non-null   object \n",
      " 8   lunch            2133 non-null   object \n",
      " 9   pretest          2133 non-null   float64\n",
      " 10  posttest         2133 non-null   float64\n",
      "dtypes: float64(3), object(8)\n",
      "memory usage: 183.4+ KB\n"
     ]
    }
   ],
   "source": [
    "data.info() # con la funcion .info podemos visualizar la informacion del dataframe"
   ]
  },
  {
   "cell_type": "code",
   "execution_count": 26,
   "id": "611d623b-6de9-4892-acf6-0dcb57653d93",
   "metadata": {},
   "outputs": [],
   "source": [
    "# se reemplazan los valores object a int64 \n",
    "data['school_setting'] = data['school_setting'].replace(['Urban', 'Suburban', 'Rural'],[0,1,2])\n",
    "data['school_type'] = data['school_type'].replace(['Non-public', 'Public'],[0,1]) \n",
    "data['teaching_method'] = data['school_type'].replace(['Standard', 'Experimental'],[0,1]) \n",
    "data['gender'] = data['gender'].replace(['Male','Female'],[0,1]) \n",
    "data['lunch'] = data['gender'].replace(['Does not qualify', 'Qualifies for reduced/free lunch'],[0,1])"
   ]
  },
  {
   "cell_type": "code",
   "execution_count": 27,
   "id": "2996f9b4-4606-43fb-a40d-5393aa183d93",
   "metadata": {},
   "outputs": [
    {
     "data": {
      "text/plain": [
       "school              object\n",
       "school_setting       int64\n",
       "school_type          int64\n",
       "classroom           object\n",
       "teaching_method      int64\n",
       "n_student          float64\n",
       "student_id          object\n",
       "gender               int64\n",
       "lunch                int64\n",
       "pretest            float64\n",
       "posttest           float64\n",
       "dtype: object"
      ]
     },
     "execution_count": 27,
     "metadata": {},
     "output_type": "execute_result"
    }
   ],
   "source": [
    "data.dtypes #condtypes vemos el resultado del cambio"
   ]
  },
  {
   "cell_type": "markdown",
   "id": "dd82873f-388f-47b2-aab3-51cb1135f3b1",
   "metadata": {},
   "source": [
    "\n"
   ]
  },
  {
   "cell_type": "markdown",
   "id": "afc271b8-0093-473a-b873-a396885720b2",
   "metadata": {},
   "source": [
    "**En las escuelas de Estados unidos las notas se califican así:\n",
    "A (muy bien)\n",
    "B (bien)\n",
    "C (suficiente)\n",
    "D (deficiente)\n",
    "y F (muy deficiente)**\n",
    "\n",
    "**Las equivalencias son las siguientes: A= 90-100 B= 80- 89 C= 70-79 D= 60-69 F= 0-59.**\n",
    "\n"
   ]
  },
  {
   "cell_type": "code",
   "execution_count": 28,
   "id": "12941c27-590d-49d5-8d3e-e9fad2ab2496",
   "metadata": {},
   "outputs": [],
   "source": [
    "#Agregamos una columna con un resultado segun las condiciones del posttest para nuestra columna target.\n",
    "\n",
    "conditionlist = [\n",
    "    (data['posttest'] >= 90.0),\n",
    "    (data['posttest'] <= 90.0) & (data['posttest'] >=80.0),\n",
    "    (data['posttest'] <= 80.0) & (data['posttest'] >=70.0),\n",
    "    (data['posttest'] <= 70.0) & (data['posttest'] >=60.0),\n",
    "    (data['posttest'] <= 59.0)]\n",
    "\n",
    "choicelist = ['A(Muy bien)','B(bien)','C(suficiente)','D(deficiente)','F(muy deficiente)']\n",
    "data['Resultado'] = np.select(conditionlist, choicelist,  default='Not Specified')"
   ]
  },
  {
   "cell_type": "code",
   "execution_count": 29,
   "id": "96f0af36-b8cb-427f-a490-5f189866025f",
   "metadata": {},
   "outputs": [],
   "source": [
    "data = data.drop(['school', 'classroom','n_student','student_id','pretest'], axis=1)\n",
    "#eliminamos las columnas que segun el estudio no afectan en el resultado del posttest."
   ]
  },
  {
   "cell_type": "markdown",
   "id": "40d2893b-6c43-4d86-9326-2fe942a38920",
   "metadata": {},
   "source": [
    "\n"
   ]
  },
  {
   "cell_type": "markdown",
   "id": "8ce71533-6df8-4236-a618-0dd9c1604201",
   "metadata": {},
   "source": [
    "## **Crisp-dm4 MODELO**"
   ]
  },
  {
   "cell_type": "code",
   "execution_count": 52,
   "id": "7c121428-4294-40f7-b85a-9175c3d49634",
   "metadata": {},
   "outputs": [],
   "source": [
    "#Primero separamos los predictores del target\n",
    "columnas = data.columns.values.tolist()\n",
    "predictors = columnas[:6]\n",
    "target = columnas[6]"
   ]
  },
  {
   "cell_type": "code",
   "execution_count": 53,
   "id": "5477d817-42fa-489b-90ce-80a028d575a1",
   "metadata": {},
   "outputs": [],
   "source": [
    "from sklearn.model_selection import train_test_split #importamos la Libreria train_test_split para separar train y test"
   ]
  },
  {
   "cell_type": "code",
   "execution_count": 54,
   "id": "8fb63932-2cb7-426d-8cff-d78ef3a2dc6d",
   "metadata": {},
   "outputs": [],
   "source": [
    "train, test = train_test_split(data, test_size = 0.20) #separamos el 20% del data frame para el test"
   ]
  },
  {
   "cell_type": "markdown",
   "id": "566cc692-16aa-4d61-a9ac-6bc3ea34da22",
   "metadata": {},
   "source": [
    "\n"
   ]
  },
  {
   "cell_type": "markdown",
   "id": "d1bc0add-5413-4908-8de9-e90189cc4a95",
   "metadata": {},
   "source": [
    "**MODELO UNO 1    Arbol de decisiones**"
   ]
  },
  {
   "cell_type": "code",
   "execution_count": 55,
   "id": "98f6add5-1afb-42ee-9f29-eba38e0a02e9",
   "metadata": {},
   "outputs": [],
   "source": [
    "from sklearn.tree import DecisionTreeClassifier #importamos la biblioteca de el Arbol de decisiones"
   ]
  },
  {
   "cell_type": "code",
   "execution_count": 56,
   "id": "7f2ccc83-6712-428c-aadf-2482869c2cee",
   "metadata": {},
   "outputs": [
    {
     "data": {
      "text/plain": [
       "DecisionTreeClassifier(criterion='entropy', min_samples_split=20,\n",
       "                       random_state=99)"
      ]
     },
     "execution_count": 56,
     "metadata": {},
     "output_type": "execute_result"
    }
   ],
   "source": [
    "Arbol = DecisionTreeClassifier(criterion=\"entropy\", min_samples_split=20, random_state=99) #instanciamos el modelo\n",
    "Arbol.fit(train[predictors], train[target]) #entrenamos el modelo"
   ]
  },
  {
   "cell_type": "markdown",
   "id": "4c383654-64fd-4201-b430-1296d472d8f5",
   "metadata": {},
   "source": [
    "\n"
   ]
  },
  {
   "cell_type": "markdown",
   "id": "d2f4f9d1-0951-4475-b46e-1708701f063c",
   "metadata": {},
   "source": [
    "**MODELO DOS 2 El vecino mas cercano**"
   ]
  },
  {
   "cell_type": "code",
   "execution_count": 57,
   "id": "4914a98a-6e75-4c58-a978-b80efbe59cab",
   "metadata": {},
   "outputs": [],
   "source": [
    "from sklearn.neighbors import KNeighborsClassifier #importamos la librería del modelo\n",
    "from sklearn import metrics #se importa la libreria metrics para poder hacer el accuracy y sacar el mejor valor de K"
   ]
  },
  {
   "cell_type": "code",
   "execution_count": 58,
   "id": "9a2940e1-875c-40f3-ad79-193cf4413f93",
   "metadata": {},
   "outputs": [],
   "source": [
    "vecino = KNeighborsClassifier(n_neighbors=5) #instanciamos el modelo"
   ]
  },
  {
   "cell_type": "code",
   "execution_count": 59,
   "id": "1836a664-2744-4b9c-8a94-2572a3771c6e",
   "metadata": {},
   "outputs": [
    {
     "data": {
      "text/plain": [
       "KNeighborsClassifier()"
      ]
     },
     "execution_count": 59,
     "metadata": {},
     "output_type": "execute_result"
    }
   ],
   "source": [
    "vecino.fit(train[predictors], train[target]) #lo entrenamos"
   ]
  },
  {
   "cell_type": "code",
   "execution_count": 60,
   "id": "fc168010-0ed7-4aef-a0cd-22514fcf9c16",
   "metadata": {},
   "outputs": [],
   "source": [
    "#Generamos el codigo para poder recorrer el mejor valor de K\n",
    "k_range = range(1,26)\n",
    "scores = []\n",
    "for k in k_range:\n",
    "    vecino = KNeighborsClassifier(n_neighbors=k)\n",
    "    vecino.fit(train[predictors], train[target])\n",
    "    y_pred = vecino.predict(test[predictors])\n",
    "    scores.append(metrics.accuracy_score(test[target], y_pred)) "
   ]
  },
  {
   "cell_type": "code",
   "execution_count": 61,
   "id": "754843df-2ec7-49ab-9cb0-852d1ba55e4a",
   "metadata": {},
   "outputs": [
    {
     "data": {
      "text/plain": [
       "Text(0, 0.5, 'Testing Accuracy')"
      ]
     },
     "execution_count": 61,
     "metadata": {},
     "output_type": "execute_result"
    },
    {
     "data": {
      "image/png": "[encoded data removed]",
      "text/plain": [
       "<Figure size 432x288 with 1 Axes>"
      ]
     },
     "metadata": {
      "needs_background": "light"
     },
     "output_type": "display_data"
    }
   ],
   "source": [
    "%matplotlib inline \n",
    "#generamos el grafico\n",
    "# plot es la relacion entre K y el testing accuracy\n",
    "plt.plot(k_range, scores)\n",
    "plt.xlabel('Value of K for KNN')\n",
    "plt.ylabel('Testing Accuracy')"
   ]
  },
  {
   "cell_type": "markdown",
   "id": "dd013d01-0b0f-4922-b449-a4ea8de99b0b",
   "metadata": {},
   "source": [
    "el mejor valor de K es 23"
   ]
  },
  {
   "cell_type": "markdown",
   "id": "c387785c-9746-418f-b51a-60f18965a675",
   "metadata": {},
   "source": [
    "**MODELO TRES 3 Bayesiano Ingenuo**"
   ]
  },
  {
   "cell_type": "code",
   "execution_count": 62,
   "id": "c447ffb3-4830-4434-9e6b-2e0622e38add",
   "metadata": {},
   "outputs": [],
   "source": [
    "from sklearn.naive_bayes import GaussianNB #importamos la librera de bayesiano ingenuo"
   ]
  },
  {
   "cell_type": "code",
   "execution_count": 63,
   "id": "2a633508-1126-4ec0-8776-4fc7b0402383",
   "metadata": {},
   "outputs": [],
   "source": [
    "bayesiano = GaussianNB() #instanciamos el modelo"
   ]
  },
  {
   "cell_type": "code",
   "execution_count": 64,
   "id": "cfc70e05-3079-4f07-809f-11dc6ffbe386",
   "metadata": {},
   "outputs": [
    {
     "data": {
      "text/plain": [
       "GaussianNB()"
      ]
     },
     "execution_count": 64,
     "metadata": {},
     "output_type": "execute_result"
    }
   ],
   "source": [
    "bayesiano.fit(train[predictors], train[target]) #entrenamos los predictores y target"
   ]
  },
  {
   "cell_type": "markdown",
   "id": "fe255ee6-e98b-44d1-866b-c6fabd5b9b0b",
   "metadata": {},
   "source": [
    "naive.predict(train[predictors])"
   ]
  },
  {
   "cell_type": "markdown",
   "id": "a3e68daa-7bf7-47aa-b8ce-30682b8828e5",
   "metadata": {},
   "source": [
    "\n"
   ]
  },
  {
   "cell_type": "markdown",
   "id": "0c07daf7-7953-4a71-a716-7dee9b8f2778",
   "metadata": {},
   "source": [
    "\n"
   ]
  },
  {
   "cell_type": "markdown",
   "id": "806393cf-f106-48f9-8108-3c2ab59d5343",
   "metadata": {},
   "source": [
    "## **Crisp-dm5  VALIDAR EL MODELO**"
   ]
  },
  {
   "cell_type": "markdown",
   "id": "ccbdb019-7110-4062-b923-0ba6e3671789",
   "metadata": {},
   "source": [
    "#### **Validar modelo 1 arbol de decisiones**"
   ]
  },
  {
   "cell_type": "code",
   "execution_count": 65,
   "id": "b3ed9ac3-500a-4951-9cb6-293fec8227d6",
   "metadata": {},
   "outputs": [],
   "source": [
    "y_pred = Arbol.predict(test[predictors]) #le entregamos el X_test compararlo con el resultado"
   ]
  },
  {
   "cell_type": "code",
   "execution_count": 66,
   "id": "68967e37-c914-48f3-a34d-7b877be2ab82",
   "metadata": {},
   "outputs": [
    {
     "name": "stdout",
     "output_type": "stream",
     "text": [
      "[[ 28   0   0   0   0]\n",
      " [  0  59   0   0   0]\n",
      " [  0   0 108   0   0]\n",
      " [  0   0   0  81   0]\n",
      " [  0   0   0   0 151]]\n"
     ]
    }
   ],
   "source": [
    "print (metrics.confusion_matrix(test[target], y_pred)) #comparamos los resultados con una matriz de confusión"
   ]
  },
  {
   "cell_type": "code",
   "execution_count": 67,
   "id": "16c0fc29-a9bd-43d7-9bc9-43731c1be832",
   "metadata": {},
   "outputs": [
    {
     "name": "stdout",
     "output_type": "stream",
     "text": [
      "1.0\n"
     ]
    }
   ],
   "source": [
    "print(metrics.accuracy_score(test[target], y_pred)) #realizamos el accuracy para que nos de el porcentaje de predicción"
   ]
  },
  {
   "cell_type": "markdown",
   "id": "23be7a06-c59c-4780-bb89-8a5eb5452f18",
   "metadata": {},
   "source": [
    "#### **Validar modelo 2 Vecino mas cercano**"
   ]
  },
  {
   "cell_type": "code",
   "execution_count": 68,
   "id": "e1652211-a4a0-4e35-be9c-84623eca2540",
   "metadata": {},
   "outputs": [],
   "source": [
    "y_pred = vecino.predict(test[predictors])  #le entregamos el X_test compararlo con el resultado\n"
   ]
  },
  {
   "cell_type": "code",
   "execution_count": 69,
   "id": "bb6c6cf2-6323-4aad-bdfd-d2e410222001",
   "metadata": {},
   "outputs": [
    {
     "name": "stdout",
     "output_type": "stream",
     "text": [
      "[[ 28   0   0   0   0]\n",
      " [  0  58   1   0   0]\n",
      " [  0   0 108   0   0]\n",
      " [  0   0   0  81   0]\n",
      " [  0   0   0   0 151]]\n"
     ]
    }
   ],
   "source": [
    "print (metrics.confusion_matrix(test[target], y_pred)) #comparamos los resultados con una matriz de confusión"
   ]
  },
  {
   "cell_type": "code",
   "execution_count": 70,
   "id": "c16c7c76-3b73-4b90-abeb-e8bf4d17e85d",
   "metadata": {},
   "outputs": [
    {
     "name": "stdout",
     "output_type": "stream",
     "text": [
      "0.9976580796252927\n"
     ]
    }
   ],
   "source": [
    "print(metrics.accuracy_score(test[target], y_pred)) #realizamos el accuracy para que nos de el porcentaje de predicción"
   ]
  },
  {
   "cell_type": "markdown",
   "id": "d51b866d-2a3f-4aff-bd2a-cb8e7e4a1742",
   "metadata": {},
   "source": [
    "#### **Validar modelo 3 Bayesiano Ingenuo**"
   ]
  },
  {
   "cell_type": "code",
   "execution_count": 71,
   "id": "beb0750b-bbe3-4ba7-ab76-ad4ee4639a4e",
   "metadata": {},
   "outputs": [],
   "source": [
    "y_pred = bayesiano.predict(test[predictors])  #le entregamos el X_test compararlo con el resultado\n"
   ]
  },
  {
   "cell_type": "code",
   "execution_count": 72,
   "id": "517d1bfb-b341-46b0-b4c9-f219672c00c5",
   "metadata": {},
   "outputs": [
    {
     "name": "stdout",
     "output_type": "stream",
     "text": [
      "[[ 27   1   0   0   0]\n",
      " [  7  46   6   0   0]\n",
      " [  0   6  92  10   0]\n",
      " [  0   0   9  72   0]\n",
      " [  0   0   0   5 146]]\n"
     ]
    }
   ],
   "source": [
    "print (metrics.confusion_matrix(test[target], y_pred)) #comparamos los resultados con una matriz de confusión"
   ]
  },
  {
   "cell_type": "code",
   "execution_count": 73,
   "id": "973f086f-7663-4761-921a-ae0ffb48a884",
   "metadata": {},
   "outputs": [
    {
     "name": "stdout",
     "output_type": "stream",
     "text": [
      "0.8969555035128806\n"
     ]
    }
   ],
   "source": [
    "print(metrics.accuracy_score(test[target], y_pred)) #realizamos el accuracy para que nos de el porcentaje de predicción"
   ]
  },
  {
   "cell_type": "markdown",
   "id": "df1952cc-b67d-4f13-95b6-fc463a8f7568",
   "metadata": {},
   "source": [
    "\n",
    "\n"
   ]
  },
  {
   "cell_type": "markdown",
   "id": "7a058197-d580-4c61-a837-af802a0d0048",
   "metadata": {},
   "source": [
    "## **Crisp-dm6  DESPLIEGUE**"
   ]
  },
  {
   "cell_type": "markdown",
   "id": "265b17c0-03b2-4bf3-b19b-b729747b340a",
   "metadata": {},
   "source": [
    "Según la investigacion que realizé del proyecto, los datos recolectados de un resultado de pruebas que se hicieron, nos pueden ayudar a predecir la calificacion en donde será clasificado el alumno según el tipo de colegio, si es rural o urbano, si el colegio es publico o privado, el método de enseñanza, si es experimental o estandar, el sexo del alumno, si es femenino o masculino, y si califica o no para la colación, mas la nota del test final, podemos clasificarlo en si es muy bueno, bueno, sufiente, defiente o muy deficiente.\n",
    "\n",
    "Se realizaron tres modelos predictivos de prueba, el arbol de deciciones, el vecino mas cercano y el de bayesianos ingenuos, los tres nos dieron distintos resultados, que fueron los siguientes...\n",
    "\n",
    "**1 Arbol de decisiones- 1.0**\n",
    "\n",
    "**2 Vecino mas cercano- 0.99 (donde el mejor valor de K es 23)**\n",
    "\n",
    "**3 bayesianos ingenuos -0.89**\n",
    "\n",
    "por lo cual definimos que el mejor modelo predictivo fu el Arbol de decisiones que nos dió el **100%**.\n",
    "\n",
    "\n"
   ]
  },
  {
   "cell_type": "code",
   "execution_count": null,
   "id": "5e85a455-266d-479d-921b-1457e146ced7",
   "metadata": {},
   "outputs": [],
   "source": []
  },
  {
   "cell_type": "code",
   "execution_count": null,
   "id": "5fcf683d-154b-4039-8e6a-f02943ac5782",
   "metadata": {},
   "outputs": [],
   "source": []
  },
  {
   "cell_type": "code",
   "execution_count": null,
   "id": "d43c4bde-acec-4766-9cf1-60a35aa9c7de",
   "metadata": {},
   "outputs": [],
   "source": []
  }
 ],
 "metadata": {
  "kernelspec": {
   "display_name": "Python 3",
   "language": "python",
   "name": "python3"
  },
  "language_info": {
   "codemirror_mode": {
    "name": "ipython",
    "version": 3
   },
   "file_extension": ".py",
   "mimetype": "text/x-python",
   "name": "python",
   "nbconvert_exporter": "python",
   "pygments_lexer": "ipython3",
   "version": "3.8.8"
  }
 },
 "nbformat": 4,
 "nbformat_minor": 5
}
